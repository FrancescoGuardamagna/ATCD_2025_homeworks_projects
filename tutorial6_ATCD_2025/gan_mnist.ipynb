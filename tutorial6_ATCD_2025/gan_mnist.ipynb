{
 "cells": [
  {
   "cell_type": "markdown",
   "id": "b68e2be5",
   "metadata": {},
   "source": [
    "Step 1. Import Libraries"
   ]
  },
  {
   "cell_type": "code",
   "execution_count": 1,
   "id": "1d0d90d0",
   "metadata": {
    "tags": []
   },
   "outputs": [],
   "source": [
    "import numpy as np\n",
    "\n",
    "import torchvision.transforms as transforms\n",
    "\n",
    "from torch.utils.data import DataLoader\n",
    "from torchvision import datasets\n",
    "from torch.autograd import Variable \n",
    "\n",
    "import torch.nn as nn\n",
    "import torch.nn.functional as F\n",
    "import torch\n",
    "import matplotlib.pyplot as plt\n",
    "import torchvision.utils as vutils"
   ]
  },
  {
   "cell_type": "code",
   "execution_count": 2,
   "id": "432f2e1e-6517-4a0b-9f33-bde4189ef122",
   "metadata": {
    "tags": []
   },
   "outputs": [],
   "source": [
    "device = torch.device('mps' if torch.backends.mps.is_available() else 'cpu')"
   ]
  },
  {
   "cell_type": "markdown",
   "id": "a9401aee",
   "metadata": {},
   "source": [
    "Step 2. Initial setting"
   ]
  },
  {
   "cell_type": "code",
   "execution_count": 3,
   "id": "1446c947",
   "metadata": {
    "tags": []
   },
   "outputs": [],
   "source": [
    "channels = 1 # suggested default : 1, number of image channels (gray scale)\n",
    "img_size = 28 # suggested default : 28, size of each image dimension\n",
    "img_shape = (channels, img_size, img_size) # (Channels, Image Size(H), Image Size(W))\n",
    "latent_dim = 100 # suggested default. dimensionality of the latent space\n",
    "\n"
   ]
  },
  {
   "cell_type": "markdown",
   "id": "27ac2336",
   "metadata": {},
   "source": [
    "Step 3. Define Generator"
   ]
  },
  {
   "cell_type": "code",
   "execution_count": 4,
   "id": "e5a03f62",
   "metadata": {
    "tags": []
   },
   "outputs": [],
   "source": [
    "class Generator(nn.Module):\n",
    "    def __init__(self):\n",
    "        super(Generator, self).__init__()\n",
    "        \n",
    "        def block(input_features, output_features, normalize=True):\n",
    "            layers = [nn.Linear(input_features, output_features)]\n",
    "            if normalize: # Default\n",
    "                layers.append(nn.BatchNorm1d(output_features))\n",
    "            layers.append(nn.LeakyReLU(0.2, inplace=True)) # inplace=True : modify the input directly. It can slightly decrease the memory usage.\n",
    "            return layers # return list of layers\n",
    "        \n",
    "        self.model = nn.Sequential(\n",
    "            *block(latent_dim, 128, normalize=False), # Asterisk('*') in front of block means unpacking list of layers - leave only values(layers) in list\n",
    "            *block(128, 256),\n",
    "            *block(256, 512),\n",
    "            *block(512, 1024),\n",
    "            nn.Linear(1024, int(np.prod(img_shape))), # np.prod(1, 28, 28) == 1*28*28\n",
    "            nn.Tanh() # result : from -1 to 1\n",
    "        )\n",
    "\n",
    "    def forward(self, z): # z == latent vector(random input vector)\n",
    "        img = self.model(z) # (64, 100) --(model)--> (64, 784)\n",
    "        img = img.view(img.size(0), *img_shape) # img.size(0) == N(Batch Size), (N, C, H, W) == default --> (64, 1, 28, 28)\n",
    "        return img"
   ]
  },
  {
   "cell_type": "markdown",
   "id": "72483b0e",
   "metadata": {},
   "source": [
    "Step 4. Define Discriminator"
   ]
  },
  {
   "cell_type": "code",
   "execution_count": 5,
   "id": "654d6d41",
   "metadata": {
    "tags": []
   },
   "outputs": [],
   "source": [
    "class Discriminator(nn.Module):\n",
    "    def __init__(self):\n",
    "        super(Discriminator, self).__init__()\n",
    "        \n",
    "        self.model = nn.Sequential(\n",
    "            nn.Linear(int(np.prod(img_shape)), 512), # (28*28, 512)\n",
    "            nn.LeakyReLU(0.2, inplace=True),\n",
    "            nn.Linear(512, 256),\n",
    "            nn.LeakyReLU(0.2, inplace=True),\n",
    "            nn.Linear(256, 1),\n",
    "            nn.Sigmoid() # result : from 0 to 1\n",
    "        )\n",
    "    \n",
    "    def forward(self, img):\n",
    "        img_flat = img.view(img.size(0), -1) #flatten -> from (64, 1, 28, 28) to (64, 1*28*28)\n",
    "        validity = self.model(img_flat) # Discriminate -> Real? or Fake? (64, 784) -> (64, 1)\n",
    "        return validity"
   ]
  },
  {
   "cell_type": "markdown",
   "id": "43cfe72a",
   "metadata": {},
   "source": [
    "Step 5. Define Loss Function"
   ]
  },
  {
   "cell_type": "code",
   "execution_count": 6,
   "id": "f8eea8fb",
   "metadata": {
    "tags": []
   },
   "outputs": [],
   "source": [
    "adversarial_loss = torch.nn.BCELoss()"
   ]
  },
  {
   "cell_type": "markdown",
   "id": "ad1d57d5",
   "metadata": {},
   "source": [
    "Step 6. Initialize generator and Discriminator"
   ]
  },
  {
   "cell_type": "code",
   "execution_count": 7,
   "id": "54fc79c8",
   "metadata": {
    "tags": []
   },
   "outputs": [
    {
     "data": {
      "text/plain": [
       "Discriminator(\n",
       "  (model): Sequential(\n",
       "    (0): Linear(in_features=784, out_features=512, bias=True)\n",
       "    (1): LeakyReLU(negative_slope=0.2, inplace=True)\n",
       "    (2): Linear(in_features=512, out_features=256, bias=True)\n",
       "    (3): LeakyReLU(negative_slope=0.2, inplace=True)\n",
       "    (4): Linear(in_features=256, out_features=1, bias=True)\n",
       "    (5): Sigmoid()\n",
       "  )\n",
       ")"
      ]
     },
     "execution_count": 7,
     "metadata": {},
     "output_type": "execute_result"
    }
   ],
   "source": [
    "generator = Generator()\n",
    "discriminator = Discriminator()\n",
    "\n",
    "generator\n",
    "discriminator"
   ]
  },
  {
   "cell_type": "markdown",
   "id": "5ed6c815",
   "metadata": {},
   "source": [
    "Step 7. Configure Data Loader"
   ]
  },
  {
   "cell_type": "code",
   "execution_count": 8,
   "id": "a0f6eecb",
   "metadata": {
    "tags": []
   },
   "outputs": [
    {
     "name": "stdout",
     "output_type": "stream",
     "text": [
      "Downloading http://yann.lecun.com/exdb/mnist/train-images-idx3-ubyte.gz\n",
      "Failed to download (trying next):\n",
      "HTTP Error 404: Not Found\n",
      "\n",
      "Downloading https://ossci-datasets.s3.amazonaws.com/mnist/train-images-idx3-ubyte.gz\n",
      "Downloading https://ossci-datasets.s3.amazonaws.com/mnist/train-images-idx3-ubyte.gz to data/MNIST/raw/train-images-idx3-ubyte.gz\n"
     ]
    },
    {
     "name": "stderr",
     "output_type": "stream",
     "text": [
      "100%|██████████| 9.91M/9.91M [00:00<00:00, 10.2MB/s]\n"
     ]
    },
    {
     "name": "stdout",
     "output_type": "stream",
     "text": [
      "Extracting data/MNIST/raw/train-images-idx3-ubyte.gz to data/MNIST/raw\n",
      "\n",
      "Downloading http://yann.lecun.com/exdb/mnist/train-labels-idx1-ubyte.gz\n",
      "Failed to download (trying next):\n",
      "HTTP Error 404: Not Found\n",
      "\n",
      "Downloading https://ossci-datasets.s3.amazonaws.com/mnist/train-labels-idx1-ubyte.gz\n",
      "Downloading https://ossci-datasets.s3.amazonaws.com/mnist/train-labels-idx1-ubyte.gz to data/MNIST/raw/train-labels-idx1-ubyte.gz\n"
     ]
    },
    {
     "name": "stderr",
     "output_type": "stream",
     "text": [
      "100%|██████████| 28.9k/28.9k [00:00<00:00, 305kB/s]\n"
     ]
    },
    {
     "name": "stdout",
     "output_type": "stream",
     "text": [
      "Extracting data/MNIST/raw/train-labels-idx1-ubyte.gz to data/MNIST/raw\n",
      "\n",
      "Downloading http://yann.lecun.com/exdb/mnist/t10k-images-idx3-ubyte.gz\n",
      "Failed to download (trying next):\n",
      "HTTP Error 404: Not Found\n",
      "\n",
      "Downloading https://ossci-datasets.s3.amazonaws.com/mnist/t10k-images-idx3-ubyte.gz\n",
      "Downloading https://ossci-datasets.s3.amazonaws.com/mnist/t10k-images-idx3-ubyte.gz to data/MNIST/raw/t10k-images-idx3-ubyte.gz\n"
     ]
    },
    {
     "name": "stderr",
     "output_type": "stream",
     "text": [
      "100%|██████████| 1.65M/1.65M [00:00<00:00, 3.10MB/s]\n"
     ]
    },
    {
     "name": "stdout",
     "output_type": "stream",
     "text": [
      "Extracting data/MNIST/raw/t10k-images-idx3-ubyte.gz to data/MNIST/raw\n",
      "\n",
      "Downloading http://yann.lecun.com/exdb/mnist/t10k-labels-idx1-ubyte.gz\n",
      "Failed to download (trying next):\n",
      "HTTP Error 404: Not Found\n",
      "\n",
      "Downloading https://ossci-datasets.s3.amazonaws.com/mnist/t10k-labels-idx1-ubyte.gz\n",
      "Downloading https://ossci-datasets.s3.amazonaws.com/mnist/t10k-labels-idx1-ubyte.gz to data/MNIST/raw/t10k-labels-idx1-ubyte.gz\n"
     ]
    },
    {
     "name": "stderr",
     "output_type": "stream",
     "text": [
      "100%|██████████| 4.54k/4.54k [00:00<00:00, 1.30MB/s]"
     ]
    },
    {
     "name": "stdout",
     "output_type": "stream",
     "text": [
      "Extracting data/MNIST/raw/t10k-labels-idx1-ubyte.gz to data/MNIST/raw\n",
      "\n"
     ]
    },
    {
     "name": "stderr",
     "output_type": "stream",
     "text": [
      "\n"
     ]
    }
   ],
   "source": [
    "from torch.utils.data import Dataset\n",
    "from torchvision import datasets\n",
    "from torchvision.transforms import ToTensor\n",
    "train_data = datasets.MNIST(\n",
    "    root = 'data',\n",
    "    train = True,                         \n",
    "    transform = transforms.Compose(\n",
    "                           [#transforms.Resize(img_size), # Resize is only for PIL Image. Not for numpy array\n",
    "                            transforms.ToTensor(), # ToTensor() : np.array (H, W, C) -> tensor (C, H, W)\n",
    "                            transforms.Normalize([0.5],[0.5])]),\n",
    "    download = True \n",
    ")\n",
    "test_data = datasets.MNIST(\n",
    "    root = 'data', \n",
    "    train = False, \n",
    "    transform = transforms.Compose(\n",
    "                           [#transforms.Resize(img_size), # Resize is only for PIL Image. Not for numpy array\n",
    "                            transforms.ToTensor(), # ToTensor() : np.array (H, W, C) -> tensor (C, H, W)\n",
    "                            transforms.Normalize([0.5],[0.5])])\n",
    ")"
   ]
  },
  {
   "cell_type": "code",
   "execution_count": 9,
   "id": "b8561594-b468-4f8d-96c0-faea70cc5c5a",
   "metadata": {
    "tags": []
   },
   "outputs": [
    {
     "data": {
      "image/png": "[encoded data removed]",
      "text/plain": [
       "<Figure size 1000x800 with 25 Axes>"
      ]
     },
     "metadata": {},
     "output_type": "display_data"
    }
   ],
   "source": [
    "figure = plt.figure(figsize=(10, 8))\n",
    "cols, rows = 5, 5\n",
    "for i in range(1, cols * rows + 1):\n",
    "    sample_idx = torch.randint(len(train_data), size=(1,)).item()\n",
    "    img, label = train_data[sample_idx]\n",
    "    figure.add_subplot(rows, cols, i)\n",
    "    plt.title(label)\n",
    "    plt.axis(\"off\")\n",
    "    plt.imshow(img.squeeze(), cmap=\"gray\")\n",
    "plt.show()"
   ]
  },
  {
   "cell_type": "code",
   "execution_count": 10,
   "id": "7a41abcd",
   "metadata": {
    "tags": []
   },
   "outputs": [
    {
     "data": {
      "text/plain": [
       "{'train': <torch.utils.data.dataloader.DataLoader at 0x1623d6530>,\n",
       " 'test': <torch.utils.data.dataloader.DataLoader at 0x1623d5630>}"
      ]
     },
     "execution_count": 10,
     "metadata": {},
     "output_type": "execute_result"
    }
   ],
   "source": [
    "from torch.utils.data import DataLoader\n",
    "loaders = {\n",
    "    'train' : torch.utils.data.DataLoader(train_data, \n",
    "                                          batch_size=100, \n",
    "                                          shuffle=True),\n",
    "    \n",
    "    'test'  : torch.utils.data.DataLoader(test_data, \n",
    "                                          batch_size=100, \n",
    "                                          shuffle=True),\n",
    "}\n",
    "loaders\n"
   ]
  },
  {
   "cell_type": "code",
   "execution_count": 11,
   "id": "eef9beec",
   "metadata": {
    "tags": []
   },
   "outputs": [
    {
     "name": "stdout",
     "output_type": "stream",
     "text": [
      "shape of images:torch.Size([1, 28, 28])\n",
      "maximum and minimum:1.0 , -1.0\n"
     ]
    }
   ],
   "source": [
    "temp_img=train_data.__getitem__(0)\n",
    "print(\"shape of images:{}\".format(temp_img[0].size()))\n",
    "print(\"maximum and minimum:{} , {}\".format(temp_img[0].max(), temp_img[0].min()))"
   ]
  },
  {
   "cell_type": "markdown",
   "id": "4b85882d",
   "metadata": {},
   "source": [
    "Step 8. Define optimizers"
   ]
  },
  {
   "cell_type": "code",
   "execution_count": 12,
   "id": "33280a3c",
   "metadata": {
    "tags": []
   },
   "outputs": [],
   "source": [
    "# suggested default - beta parameters (decay of first order momentum of gradients)\n",
    "b1 = 0.5\n",
    "b2 = 0.999\n",
    "\n",
    "# suggested default - learning rate\n",
    "lr = 0.0002 "
   ]
  },
  {
   "cell_type": "code",
   "execution_count": 13,
   "id": "81110dce",
   "metadata": {
    "tags": []
   },
   "outputs": [],
   "source": [
    "optimizer_G = torch.optim.Adam(generator.parameters(), lr=lr, betas=(b1,b2))\n",
    "optimizer_D = torch.optim.Adam(discriminator.parameters(), lr=lr, betas=(b1,b2))\n"
   ]
  },
  {
   "cell_type": "code",
   "execution_count": 14,
   "id": "2c48e71a",
   "metadata": {
    "tags": []
   },
   "outputs": [],
   "source": [
    "Tensor = torch.FloatTensor\n"
   ]
  },
  {
   "cell_type": "code",
   "execution_count": 15,
   "id": "4e5f8407",
   "metadata": {
    "tags": []
   },
   "outputs": [],
   "source": [
    "# Visualize result\n",
    "import matplotlib.pyplot as plt\n"
   ]
  },
  {
   "cell_type": "markdown",
   "id": "6127d1b5",
   "metadata": {},
   "source": [
    "Step 9. Training\n"
   ]
  },
  {
   "cell_type": "code",
   "execution_count": 16,
   "id": "2516bbf7",
   "metadata": {
    "tags": []
   },
   "outputs": [
    {
     "data": {
      "image/png": "[encoded data removed]",
      "text/plain": [
       "<Figure size 800x200 with 5 Axes>"
      ]
     },
     "metadata": {},
     "output_type": "display_data"
    },
    {
     "name": "stdout",
     "output_type": "stream",
     "text": [
      "[Epoch: 1/100] [D loss: 0.827714] [G loss: 0.647938]\n"
     ]
    },
    {
     "data": {
      "image/png": "[encoded data removed]",
      "text/plain": [
       "<Figure size 800x200 with 5 Axes>"
      ]
     },
     "metadata": {},
     "output_type": "display_data"
    },
    {
     "name": "stdout",
     "output_type": "stream",
     "text": [
      "[Epoch: 2/100] [D loss: 0.920227] [G loss: 0.639202]\n"
     ]
    },
    {
     "data": {
      "image/png": "[encoded data removed]",
      "text/plain": [
       "<Figure size 800x200 with 5 Axes>"
      ]
     },
     "metadata": {},
     "output_type": "display_data"
    },
    {
     "name": "stdout",
     "output_type": "stream",
     "text": [
      "[Epoch: 3/100] [D loss: 0.961402] [G loss: 0.631495]\n"
     ]
    },
    {
     "ename": "KeyboardInterrupt",
     "evalue": "",
     "output_type": "error",
     "traceback": [
      "\u001b[0;31m---------------------------------------------------------------------------\u001b[0m",
      "\u001b[0;31mKeyboardInterrupt\u001b[0m                         Traceback (most recent call last)",
      "Cell \u001b[0;32mIn[16], line 54\u001b[0m\n\u001b[1;32m     50\u001b[0m         g_loss \u001b[38;5;241m=\u001b[39m adversarial_loss(discriminator(gen_imgs), valid) \u001b[38;5;66;03m# torch.nn.BCELoss() compare result(64x1) and valid(64x1, filled with 1)\u001b[39;00m\n\u001b[1;32m     52\u001b[0m         loss_for_epoch_generator\u001b[38;5;241m.\u001b[39mappend(g_loss\u001b[38;5;241m.\u001b[39mitem())\n\u001b[0;32m---> 54\u001b[0m         \u001b[43mg_loss\u001b[49m\u001b[38;5;241;43m.\u001b[39;49m\u001b[43mbackward\u001b[49m\u001b[43m(\u001b[49m\u001b[43m)\u001b[49m\n\u001b[1;32m     55\u001b[0m         optimizer_G\u001b[38;5;241m.\u001b[39mstep()\n\u001b[1;32m     59\u001b[0m \u001b[38;5;66;03m# ------------\u001b[39;00m\n\u001b[1;32m     60\u001b[0m \u001b[38;5;66;03m# Real Time Visualization (While Training)\u001b[39;00m\n\u001b[1;32m     61\u001b[0m \u001b[38;5;66;03m# ------------\u001b[39;00m\n",
      "File \u001b[0;32m~/miniconda3/lib/python3.10/site-packages/torch/_tensor.py:581\u001b[0m, in \u001b[0;36mTensor.backward\u001b[0;34m(self, gradient, retain_graph, create_graph, inputs)\u001b[0m\n\u001b[1;32m    571\u001b[0m \u001b[38;5;28;01mif\u001b[39;00m has_torch_function_unary(\u001b[38;5;28mself\u001b[39m):\n\u001b[1;32m    572\u001b[0m     \u001b[38;5;28;01mreturn\u001b[39;00m handle_torch_function(\n\u001b[1;32m    573\u001b[0m         Tensor\u001b[38;5;241m.\u001b[39mbackward,\n\u001b[1;32m    574\u001b[0m         (\u001b[38;5;28mself\u001b[39m,),\n\u001b[0;32m   (...)\u001b[0m\n\u001b[1;32m    579\u001b[0m         inputs\u001b[38;5;241m=\u001b[39minputs,\n\u001b[1;32m    580\u001b[0m     )\n\u001b[0;32m--> 581\u001b[0m \u001b[43mtorch\u001b[49m\u001b[38;5;241;43m.\u001b[39;49m\u001b[43mautograd\u001b[49m\u001b[38;5;241;43m.\u001b[39;49m\u001b[43mbackward\u001b[49m\u001b[43m(\u001b[49m\n\u001b[1;32m    582\u001b[0m \u001b[43m    \u001b[49m\u001b[38;5;28;43mself\u001b[39;49m\u001b[43m,\u001b[49m\u001b[43m \u001b[49m\u001b[43mgradient\u001b[49m\u001b[43m,\u001b[49m\u001b[43m \u001b[49m\u001b[43mretain_graph\u001b[49m\u001b[43m,\u001b[49m\u001b[43m \u001b[49m\u001b[43mcreate_graph\u001b[49m\u001b[43m,\u001b[49m\u001b[43m \u001b[49m\u001b[43minputs\u001b[49m\u001b[38;5;241;43m=\u001b[39;49m\u001b[43minputs\u001b[49m\n\u001b[1;32m    583\u001b[0m \u001b[43m\u001b[49m\u001b[43m)\u001b[49m\n",
      "File \u001b[0;32m~/miniconda3/lib/python3.10/site-packages/torch/autograd/__init__.py:347\u001b[0m, in \u001b[0;36mbackward\u001b[0;34m(tensors, grad_tensors, retain_graph, create_graph, grad_variables, inputs)\u001b[0m\n\u001b[1;32m    342\u001b[0m     retain_graph \u001b[38;5;241m=\u001b[39m create_graph\n\u001b[1;32m    344\u001b[0m \u001b[38;5;66;03m# The reason we repeat the same comment below is that\u001b[39;00m\n\u001b[1;32m    345\u001b[0m \u001b[38;5;66;03m# some Python versions print out the first line of a multi-line function\u001b[39;00m\n\u001b[1;32m    346\u001b[0m \u001b[38;5;66;03m# calls in the traceback and some print out the last line\u001b[39;00m\n\u001b[0;32m--> 347\u001b[0m \u001b[43m_engine_run_backward\u001b[49m\u001b[43m(\u001b[49m\n\u001b[1;32m    348\u001b[0m \u001b[43m    \u001b[49m\u001b[43mtensors\u001b[49m\u001b[43m,\u001b[49m\n\u001b[1;32m    349\u001b[0m \u001b[43m    \u001b[49m\u001b[43mgrad_tensors_\u001b[49m\u001b[43m,\u001b[49m\n\u001b[1;32m    350\u001b[0m \u001b[43m    \u001b[49m\u001b[43mretain_graph\u001b[49m\u001b[43m,\u001b[49m\n\u001b[1;32m    351\u001b[0m \u001b[43m    \u001b[49m\u001b[43mcreate_graph\u001b[49m\u001b[43m,\u001b[49m\n\u001b[1;32m    352\u001b[0m \u001b[43m    \u001b[49m\u001b[43minputs\u001b[49m\u001b[43m,\u001b[49m\n\u001b[1;32m    353\u001b[0m \u001b[43m    \u001b[49m\u001b[43mallow_unreachable\u001b[49m\u001b[38;5;241;43m=\u001b[39;49m\u001b[38;5;28;43;01mTrue\u001b[39;49;00m\u001b[43m,\u001b[49m\n\u001b[1;32m    354\u001b[0m \u001b[43m    \u001b[49m\u001b[43maccumulate_grad\u001b[49m\u001b[38;5;241;43m=\u001b[39;49m\u001b[38;5;28;43;01mTrue\u001b[39;49;00m\u001b[43m,\u001b[49m\n\u001b[1;32m    355\u001b[0m \u001b[43m\u001b[49m\u001b[43m)\u001b[49m\n",
      "File \u001b[0;32m~/miniconda3/lib/python3.10/site-packages/torch/autograd/graph.py:825\u001b[0m, in \u001b[0;36m_engine_run_backward\u001b[0;34m(t_outputs, *args, **kwargs)\u001b[0m\n\u001b[1;32m    823\u001b[0m     unregister_hooks \u001b[38;5;241m=\u001b[39m _register_logging_hooks_on_whole_graph(t_outputs)\n\u001b[1;32m    824\u001b[0m \u001b[38;5;28;01mtry\u001b[39;00m:\n\u001b[0;32m--> 825\u001b[0m     \u001b[38;5;28;01mreturn\u001b[39;00m \u001b[43mVariable\u001b[49m\u001b[38;5;241;43m.\u001b[39;49m\u001b[43m_execution_engine\u001b[49m\u001b[38;5;241;43m.\u001b[39;49m\u001b[43mrun_backward\u001b[49m\u001b[43m(\u001b[49m\u001b[43m  \u001b[49m\u001b[38;5;66;43;03m# Calls into the C++ engine to run the backward pass\u001b[39;49;00m\n\u001b[1;32m    826\u001b[0m \u001b[43m        \u001b[49m\u001b[43mt_outputs\u001b[49m\u001b[43m,\u001b[49m\u001b[43m \u001b[49m\u001b[38;5;241;43m*\u001b[39;49m\u001b[43margs\u001b[49m\u001b[43m,\u001b[49m\u001b[43m \u001b[49m\u001b[38;5;241;43m*\u001b[39;49m\u001b[38;5;241;43m*\u001b[39;49m\u001b[43mkwargs\u001b[49m\n\u001b[1;32m    827\u001b[0m \u001b[43m    \u001b[49m\u001b[43m)\u001b[49m  \u001b[38;5;66;03m# Calls into the C++ engine to run the backward pass\u001b[39;00m\n\u001b[1;32m    828\u001b[0m \u001b[38;5;28;01mfinally\u001b[39;00m:\n\u001b[1;32m    829\u001b[0m     \u001b[38;5;28;01mif\u001b[39;00m attach_logging_hooks:\n",
      "\u001b[0;31mKeyboardInterrupt\u001b[0m: "
     ]
    }
   ],
   "source": [
    "n_epochs = 100 # suggested default = 200\n",
    "\n",
    "for epoch in range(n_epochs):\n",
    "    loss_for_epoch_generator=[]\n",
    "    loss_for_epoch_discriminator=[]\n",
    "    \n",
    "    for i, (imgs, _) in enumerate(loaders['train']): # This code(enumerate) is dealt with once more in the *TEST_CODE below.\n",
    "                                                      \n",
    "        \n",
    "        # Adversarial ground truths (For more detail, refer *Read_More below)\n",
    "        valid = Variable(Tensor(imgs.size(0), 1).fill_(1.0), requires_grad=False) # imgs.size(0) == batch_size(1 batch) == 64, *TEST_CODE\n",
    "        fake = Variable(Tensor(imgs.size(0), 1).fill_(0.0), requires_grad=False) # And Variable is for caclulate gradient. In fact, you can use it, but you don't have to. \n",
    "                                                                                # requires_grad=False is default in tensor type. *Read_More\n",
    "        \n",
    "        # Configure input\n",
    "        real_imgs = imgs.type(Tensor) # As mentioned, it is no longer necessary to wrap the tensor in a Variable.\n",
    "        # real_imgs = Variable(imgs.type(Tensor)) # requires_grad=False, Default! It's same.\n",
    "        # Generate a batch of images\n",
    "        z = Tensor(np.random.normal(0, 1, (imgs.shape[0],latent_dim)))\n",
    "        gen_imgs = generator(z)\n",
    "        # gen_imgs.shape == torch.Size([64, 1, 28, 28])\n",
    "    \n",
    "    \n",
    "    \n",
    "# ------------\n",
    "# Train Discriminator\n",
    "# ------------\n",
    "        optimizer_D.zero_grad()\n",
    "        \n",
    "        # Measure discriminator's ability to classify real from generated samples\n",
    "        real_loss = adversarial_loss(discriminator(real_imgs), valid) # torch.nn.BCELoss() compare result(64x1) and valid(64x1, filled with 1)\n",
    "        fake_loss = adversarial_loss(discriminator(gen_imgs.detach()), fake) # We are learning the discriminator now. So have to use detach() \n",
    "                                                                             \n",
    "        d_loss = (real_loss + fake_loss) / 2\n",
    "        loss_for_epoch_discriminator.append(d_loss.item())\n",
    "        \n",
    "        d_loss.backward()# If didn't use detach() for gen_imgs, all weights of the generator will be calculated with backward(). \n",
    "        optimizer_D.step()\n",
    "    \n",
    "# ------------\n",
    "# Train Generator\n",
    "# ------------\n",
    "        optimizer_G.zero_grad()\n",
    "        \n",
    "        # sample noise 'z' as generator input\n",
    "        # Random sampling Tensor(batch_size, latent_dim) of Gaussian distribution\n",
    "        # z.shape == torch.Size([64, 100])\n",
    "        \n",
    "        # Loss measures generator's ability to fool the discriminator\n",
    "        g_loss = adversarial_loss(discriminator(gen_imgs), valid) # torch.nn.BCELoss() compare result(64x1) and valid(64x1, filled with 1)\n",
    "        \n",
    "        loss_for_epoch_generator.append(g_loss.item())\n",
    "        \n",
    "        g_loss.backward()\n",
    "        optimizer_G.step()\n",
    "         \n",
    "    \n",
    "\n",
    "# ------------\n",
    "# Real Time Visualization (While Training)\n",
    "# ------------\n",
    "        \n",
    "    sample_z_in_train = Tensor(np.random.normal(0, 1, (imgs.shape[0],latent_dim)))\n",
    "    # z.shape == torch.Size([64, 100])\n",
    "    sample_gen_imgs_in_train = generator(sample_z_in_train).detach().cpu()\n",
    "    # gen_imgs.shape == torch.Size([64, 1, 28, 28])\n",
    "\n",
    "    nrow=1\n",
    "    ncols=5\n",
    "    fig, axes = plt.subplots(nrows=nrow,ncols=ncols, figsize=(8,2))\n",
    "    plt.suptitle('EPOCH : {}'.format(epoch+1))\n",
    "    for ncol in range(ncols):\n",
    "        axes[ncol].imshow(sample_gen_imgs_in_train.permute(0,2,3,1)[ncol], cmap='gray')\n",
    "        axes[ncol].axis('off')\n",
    "    plt.show()\n",
    "    print(\n",
    "        \"[Epoch: %d/%d] [D loss: %f] [G loss: %f]\"\n",
    "        % (epoch+1, n_epochs, np.mean(np.array(loss_for_epoch_generator)), np.mean(np.array(loss_for_epoch_discriminator)))\n",
    "    )"
   ]
  },
  {
   "cell_type": "markdown",
   "id": "300dc3e5-5a85-43be-9627-760d4c6a8c7a",
   "metadata": {},
   "source": [
    "Step 10. Test the GAN skills"
   ]
  },
  {
   "cell_type": "code",
   "execution_count": null,
   "id": "46cc33a9-d9d8-4e21-a42c-fdd121322e57",
   "metadata": {
    "tags": []
   },
   "outputs": [],
   "source": [
    "#define fixed noise for comparison\n",
    "np.random.seed(0)\n",
    "fixed_noise = Tensor(np.random.normal(0, 1, (imgs.shape[0],latent_dim)))\n",
    "\n",
    "#generate fake images\n",
    "with torch.no_grad():\n",
    "    fake = generator(fixed_noise).detach().cpu()\n",
    "\n",
    "\n",
    "#take a batch of real images\n",
    "real_batch = next(iter(loaders['test']))\n",
    "\n",
    "# Plot the real images\n",
    "plt.figure(figsize=(15,15))\n",
    "plt.subplot(1,2,1)\n",
    "plt.axis(\"off\")\n",
    "plt.title(\"Real Images\")\n",
    "plt.imshow(vutils.make_grid(real_batch[0].cpu()[:64],padding=5)[0,:,:].cpu(),cmap='gray')\n",
    "\n",
    "# Plot the fake images\n",
    "plt.subplot(1,2,2)\n",
    "plt.axis(\"off\")\n",
    "plt.title(\"Fake Images\")\n",
    "plt.imshow(vutils.make_grid(fake[:64],padding=5)[0,:,:].cpu(),cmap='gray')\n",
    "plt.show()\n"
   ]
  },
  {
   "cell_type": "code",
   "execution_count": null,
   "id": "dec824c7-437e-49fd-8298-f22dd7bfe7a4",
   "metadata": {},
   "outputs": [],
   "source": []
  }
 ],
 "metadata": {
  "kernelspec": {
   "display_name": "base",
   "language": "python",
   "name": "python3"
  },
  "language_info": {
   "codemirror_mode": {
    "name": "ipython",
    "version": 3
   },
   "file_extension": ".py",
   "mimetype": "text/x-python",
   "name": "python",
   "nbconvert_exporter": "python",
   "pygments_lexer": "ipython3",
   "version": "3.10.11"
  }
 },
 "nbformat": 4,
 "nbformat_minor": 5
}
