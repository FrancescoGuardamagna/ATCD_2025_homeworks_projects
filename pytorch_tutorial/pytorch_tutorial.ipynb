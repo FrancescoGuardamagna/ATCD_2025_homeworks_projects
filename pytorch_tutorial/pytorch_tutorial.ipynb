{
 "cells": [
  {
   "cell_type": "code",
   "execution_count": 2,
   "id": "b578cbe2",
   "metadata": {},
   "outputs": [],
   "source": [
    "import torch \n",
    "import numpy as np"
   ]
  },
  {
   "cell_type": "code",
   "execution_count": 3,
   "id": "51f2885b",
   "metadata": {},
   "outputs": [
    {
     "name": "stdout",
     "output_type": "stream",
     "text": [
      "Is MPS (Metal Performance Shader) built? True\n",
      "Is MPS available? True\n",
      "Using device: mps\n"
     ]
    }
   ],
   "source": [
    "# Device configuration\n",
    "print(f\"Is MPS (Metal Performance Shader) built? {torch.backends.mps.is_built()}\")\n",
    "print(f\"Is MPS available? {torch.backends.mps.is_available()}\")\n",
    "\n",
    "device = \"mps\" if torch.backends.mps.is_available() else \"cpu\"\n",
    "device = torch.device(device)\n",
    "print(f\"Using device: {device}\")"
   ]
  },
  {
   "cell_type": "markdown",
   "id": "48d8aa7e",
   "metadata": {},
   "source": [
    "**Tensors initialization** "
   ]
  },
  {
   "cell_type": "code",
   "execution_count": 4,
   "id": "cfa63926",
   "metadata": {},
   "outputs": [
    {
     "name": "stdout",
     "output_type": "stream",
     "text": [
      "[[1 2]\n",
      " [3 4]]\n",
      "tensor([[1, 2],\n",
      "        [3, 4]])\n",
      "[[1 2]\n",
      " [3 4]]\n"
     ]
    }
   ],
   "source": [
    "numpy_array=np.array([[1,2],[3,4]])\n",
    "tensor=torch.from_numpy(numpy_array)\n",
    "original_numpy_array=tensor.numpy()\n",
    "\n",
    "print(numpy_array)\n",
    "print(tensor)\n",
    "print(original_numpy_array)"
   ]
  },
  {
   "cell_type": "markdown",
   "id": "97044a0e",
   "metadata": {},
   "source": [
    "**Tensors' operations**"
   ]
  },
  {
   "cell_type": "code",
   "execution_count": 7,
   "id": "7e0419d2",
   "metadata": {},
   "outputs": [
    {
     "name": "stdout",
     "output_type": "stream",
     "text": [
      "tensor([[0.4549, 0.9559],\n",
      "        [0.1676, 0.9642]])\n",
      "tensor([[0.3067, 0.5819],\n",
      "        [0.1108, 0.9424]])\n",
      "tensor([[0.7615, 1.5377],\n",
      "        [0.2784, 1.9066]])\n",
      "tensor([[0.7615, 1.5377],\n",
      "        [0.2784, 1.9066]])\n",
      "tensor([0, 1, 2, 3, 4, 5])\n",
      "shape x3:torch.Size([6])\n",
      "tensor([[0, 1, 2],\n",
      "        [3, 4, 5]])\n",
      "new shape x3:torch.Size([2, 3])\n",
      "tensor([[0.6125, 2.5219],\n",
      "        [0.3961, 2.0961]])\n",
      "tensor(0)\n",
      "tensor([0, 1, 2])\n",
      "tensor([0, 3])\n",
      "tensor([0, 1])\n"
     ]
    }
   ],
   "source": [
    "x1=torch.rand(2,2)\n",
    "x2=torch.rand(2,2)\n",
    "\n",
    "print(x1)\n",
    "print(x2)\n",
    "\n",
    "#not in place operation\n",
    "y=x1+x2\n",
    "print(y)\n",
    "\n",
    "#in place operation\n",
    "x2.add_(x1)\n",
    "print(x2)\n",
    "\n",
    "x3=torch.arange(6)\n",
    "print(x3)\n",
    "print(\"shape x3:{}\".format(x3.shape))\n",
    "x3=x3.view(2,3)\n",
    "print(x3)\n",
    "print(\"new shape x3:{}\".format(x3.shape))\n",
    "\n",
    "matrix_multiplication=torch.mm(x1,x2)\n",
    "print(matrix_multiplication)\n",
    "\n",
    "#first row x3\n",
    "element_1_1=x3[0,0]\n",
    "first_row=x3[0,:]\n",
    "first_column=x3[:,0]\n",
    "first_2_elements_first_row=x3[0,:2]\n",
    "print(element_1_1)\n",
    "print(first_row)\n",
    "print(first_column)\n",
    "print(first_2_elements_first_row)"
   ]
  },
  {
   "cell_type": "markdown",
   "id": "e275fc23",
   "metadata": {},
   "source": [
    "**Define the Dataset**"
   ]
  },
  {
   "cell_type": "code",
   "execution_count": 8,
   "id": "f9bff7b4",
   "metadata": {},
   "outputs": [
    {
     "name": "stdout",
     "output_type": "stream",
     "text": [
      "total length dataset:100\n",
      "0th element in the dataset is:tensor([-0.4458, -1.4070, -1.2872, -0.4806,  0.8663, -1.5466, -1.0227, -0.4903,\n",
      "         0.1568, -0.2836])\n",
      "with corresponding label:tensor([1., 0.])\n"
     ]
    }
   ],
   "source": [
    "from torch.utils.data import Dataset, DataLoader\n",
    "from torch.nn import functional\n",
    "data_array=np.random.randn(100,10)\n",
    "labels_array=np.random.randint(0,2,(100,))\n",
    "\n",
    "data=torch.from_numpy(data_array).to(torch.float32)\n",
    "labels=torch.from_numpy(labels_array)\n",
    "labels=functional.one_hot(labels).to(torch.float32)\n",
    "\n",
    "class customDataset(Dataset):\n",
    "    def __init__(self,data,labels):\n",
    "        self.data=data\n",
    "        self.labels=labels\n",
    "    def __getitem__(self,idx):\n",
    "        return self.data[idx],self.labels[idx]\n",
    "    def __len__(self):\n",
    "        return self.data.shape[0]\n",
    "\n",
    "\n",
    "idx=0\n",
    "custom_dataset=customDataset(data,labels)\n",
    "print(\"total length dataset:{}\".format(custom_dataset.__len__()))\n",
    "print(\"{}th element in the dataset is:{}\".format(idx,custom_dataset.__getitem__(idx)[0]))\n",
    "print(\"with corresponding label:{}\".format(custom_dataset.__getitem__(idx)[1]))\n",
    "\n"
   ]
  },
  {
   "cell_type": "markdown",
   "id": "d66c2d92",
   "metadata": {},
   "source": [
    "**Define the Dataloader**"
   ]
  },
  {
   "cell_type": "code",
   "execution_count": 9,
   "id": "57621223",
   "metadata": {},
   "outputs": [
    {
     "name": "stdout",
     "output_type": "stream",
     "text": [
      "torch.Size([5, 10])\n",
      "torch.Size([5, 2])\n",
      "torch.Size([5, 10])\n",
      "torch.Size([5, 2])\n",
      "torch.Size([5, 10])\n",
      "torch.Size([5, 2])\n",
      "torch.Size([5, 10])\n",
      "torch.Size([5, 2])\n",
      "torch.Size([5, 10])\n",
      "torch.Size([5, 2])\n",
      "torch.Size([5, 10])\n",
      "torch.Size([5, 2])\n",
      "torch.Size([5, 10])\n",
      "torch.Size([5, 2])\n",
      "torch.Size([5, 10])\n",
      "torch.Size([5, 2])\n",
      "torch.Size([5, 10])\n",
      "torch.Size([5, 2])\n",
      "torch.Size([5, 10])\n",
      "torch.Size([5, 2])\n",
      "torch.Size([5, 10])\n",
      "torch.Size([5, 2])\n",
      "torch.Size([5, 10])\n",
      "torch.Size([5, 2])\n",
      "torch.Size([5, 10])\n",
      "torch.Size([5, 2])\n",
      "torch.Size([5, 10])\n",
      "torch.Size([5, 2])\n",
      "torch.Size([5, 10])\n",
      "torch.Size([5, 2])\n",
      "torch.Size([5, 10])\n",
      "torch.Size([5, 2])\n",
      "torch.Size([5, 10])\n",
      "torch.Size([5, 2])\n",
      "torch.Size([5, 10])\n",
      "torch.Size([5, 2])\n",
      "torch.Size([5, 10])\n",
      "torch.Size([5, 2])\n",
      "torch.Size([5, 10])\n",
      "torch.Size([5, 2])\n"
     ]
    }
   ],
   "source": [
    "Data_loader=DataLoader(custom_dataset,batch_size=5,shuffle=False)\n",
    "for x,y in Data_loader:\n",
    "    print(x.shape)\n",
    "    print(y.shape)"
   ]
  },
  {
   "cell_type": "markdown",
   "id": "6e422227",
   "metadata": {},
   "source": [
    "**Define a simple multy-layer perceptron**"
   ]
  },
  {
   "cell_type": "code",
   "execution_count": 10,
   "id": "9fe21f2d",
   "metadata": {},
   "outputs": [
    {
     "name": "stdout",
     "output_type": "stream",
     "text": [
      "torch.Size([100, 2])\n"
     ]
    }
   ],
   "source": [
    "from torch import nn\n",
    "\n",
    "class MLP(nn.Module):\n",
    "    def __init__(self,hidden_layers_dimension,input_dimensions,output_dimensions):\n",
    "        \n",
    "        super(MLP, self).__init__()\n",
    "        self.fc1=nn.Linear(input_dimensions,hidden_layers_dimension)\n",
    "        self.act=nn.ReLU()\n",
    "        self.output_layer=nn.Linear(hidden_layers_dimension,output_dimensions)\n",
    "        \n",
    "    def forward(self,x):\n",
    "        \n",
    "        x=self.fc1(x)\n",
    "        x=self.act(x)\n",
    "        x=self.output_layer(x)\n",
    "    \n",
    "        return x\n",
    "\n",
    "mlp=MLP(12,10,2)\n",
    "result=mlp(data)\n",
    "print(result.shape)"
   ]
  },
  {
   "cell_type": "markdown",
   "id": "73d55fe1",
   "metadata": {},
   "source": [
    "**Define the loss function**"
   ]
  },
  {
   "cell_type": "code",
   "execution_count": 11,
   "id": "125a3d28",
   "metadata": {},
   "outputs": [],
   "source": [
    "criterion=torch.nn.CrossEntropyLoss()"
   ]
  },
  {
   "cell_type": "markdown",
   "id": "03d629ae",
   "metadata": {},
   "source": [
    "**Define the optimizer**"
   ]
  },
  {
   "cell_type": "code",
   "execution_count": 12,
   "id": "0281495b",
   "metadata": {},
   "outputs": [],
   "source": [
    "from torch.optim import Adam\n",
    "lr=0.05\n",
    "optimizer=Adam(mlp.parameters(),lr)"
   ]
  },
  {
   "cell_type": "markdown",
   "id": "c849ff19",
   "metadata": {},
   "source": [
    "**Training loop**"
   ]
  },
  {
   "cell_type": "code",
   "execution_count": 13,
   "id": "355b81a8",
   "metadata": {},
   "outputs": [
    {
     "name": "stdout",
     "output_type": "stream",
     "text": [
      "epoch:0\n",
      "loss epoch:0 is:0.8692811667919159\n",
      "epoch:1\n",
      "loss epoch:1 is:0.726115682721138\n",
      "epoch:2\n",
      "loss epoch:2 is:0.6358610585331916\n",
      "epoch:3\n",
      "loss epoch:3 is:0.6216837272047997\n",
      "epoch:4\n",
      "loss epoch:4 is:0.5695558935403824\n",
      "epoch:5\n",
      "loss epoch:5 is:0.5486934676766395\n",
      "epoch:6\n",
      "loss epoch:6 is:0.5297417521476746\n",
      "epoch:7\n",
      "loss epoch:7 is:0.5004117213189602\n",
      "epoch:8\n",
      "loss epoch:8 is:0.46870013549923895\n",
      "epoch:9\n",
      "loss epoch:9 is:0.4743284583091736\n",
      "epoch:10\n",
      "loss epoch:10 is:0.4540164075791836\n",
      "epoch:11\n",
      "loss epoch:11 is:0.48188488446176053\n",
      "epoch:12\n",
      "loss epoch:12 is:0.4858164742588997\n",
      "epoch:13\n",
      "loss epoch:13 is:0.4365636073052883\n",
      "epoch:14\n",
      "loss epoch:14 is:0.37304792925715446\n",
      "epoch:15\n",
      "loss epoch:15 is:0.38000732138752935\n",
      "epoch:16\n",
      "loss epoch:16 is:0.4117301650345325\n",
      "epoch:17\n",
      "loss epoch:17 is:0.36357328183948995\n",
      "epoch:18\n",
      "loss epoch:18 is:0.3500608140602708\n",
      "epoch:19\n",
      "loss epoch:19 is:0.3949670232832432\n"
     ]
    }
   ],
   "source": [
    "import tqdm\n",
    "n_epochs=20\n",
    "mlp.train()\n",
    "mlp.to(device)\n",
    "\n",
    "# Training loop\n",
    "for epoch in range(n_epochs):\n",
    "    print(\"epoch:{}\".format(epoch))\n",
    "    loss_current_epoch=[]\n",
    "    for data_inputs, data_labels in Data_loader:\n",
    "\n",
    "        data_inputs = data_inputs.to(device)\n",
    "        data_labels = data_labels.to(device)\n",
    "\n",
    "        preds = mlp(data_inputs)\n",
    "        preds = preds.squeeze(dim=1)\n",
    "\n",
    "        loss = criterion(preds, data_labels)\n",
    "        \n",
    "        loss_current_epoch.append(loss.item())\n",
    "        optimizer.zero_grad()\n",
    "        loss.backward()\n",
    "\n",
    "        optimizer.step()\n",
    "    \n",
    "    print(\"loss epoch:{} is:{}\".format(epoch,np.mean(loss_current_epoch)))"
   ]
  },
  {
   "cell_type": "markdown",
   "id": "bbea6300",
   "metadata": {},
   "source": [
    "**Evaluate the model**"
   ]
  },
  {
   "cell_type": "code",
   "execution_count": 14,
   "id": "445515fa",
   "metadata": {},
   "outputs": [
    {
     "name": "stdout",
     "output_type": "stream",
     "text": [
      "Accuracy of the model: 44.00%\n"
     ]
    }
   ],
   "source": [
    "data_array_test=np.random.randn(100,10)\n",
    "labels_array_test=np.random.randint(0,2,(100,))\n",
    "\n",
    "data_test=torch.from_numpy(data_array_test).to(torch.float32)\n",
    "labels_test=torch.from_numpy(labels_array_test).to(torch.float32)\n",
    "\n",
    "mlp.eval() \n",
    "mlp.to(device)\n",
    "true_preds, num_preds = 0., 0.\n",
    "\n",
    "custom_dataset_test=customDataset(data_test,labels_test)\n",
    "Data_loader_test=DataLoader(custom_dataset_test,batch_size=5,shuffle=False)\n",
    "\n",
    "\n",
    "\n",
    "with torch.no_grad(): \n",
    "    for data_inputs, data_labels in Data_loader_test:\n",
    "\n",
    "\n",
    "        data_inputs, data_labels = data_inputs.to(device), data_labels.to(device)\n",
    "        preds = mlp(data_inputs)\n",
    "        preds = preds.squeeze(dim=1)\n",
    "\n",
    "        pred_labels = torch.argmax(preds,1) \n",
    "\n",
    "        true_preds += (pred_labels == data_labels).sum()\n",
    "        num_preds += data_labels.shape[0]\n",
    "\n",
    "acc = true_preds / num_preds\n",
    "print(f\"Accuracy of the model: {100.0*acc:4.2f}%\")"
   ]
  },
  {
   "cell_type": "code",
   "execution_count": null,
   "id": "2e240c4f",
   "metadata": {},
   "outputs": [],
   "source": []
  }
 ],
 "metadata": {
  "kernelspec": {
   "display_name": "base",
   "language": "python",
   "name": "python3"
  },
  "language_info": {
   "codemirror_mode": {
    "name": "ipython",
    "version": 3
   },
   "file_extension": ".py",
   "mimetype": "text/x-python",
   "name": "python",
   "nbconvert_exporter": "python",
   "pygments_lexer": "ipython3",
   "version": "3.10.11"
  }
 },
 "nbformat": 4,
 "nbformat_minor": 5
}
